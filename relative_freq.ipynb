{
 "cells": [
  {
   "cell_type": "code",
   "execution_count": 2,
   "metadata": {},
   "outputs": [],
   "source": [
    "import matplotlib.pyplot as plt\n",
    "from scipy import stats\n",
    "import numpy as np\n",
    "import pandas as pd\n",
    "import csv"
   ]
  },
  {
   "cell_type": "code",
   "execution_count": 3,
   "metadata": {},
   "outputs": [],
   "source": [
    "data = pd.read_csv ('info01.csv')"
   ]
  },
  {
   "cell_type": "code",
   "execution_count": 4,
   "metadata": {},
   "outputs": [
    {
     "data": {
      "text/html": [
       "<div>\n",
       "<style scoped>\n",
       "    .dataframe tbody tr th:only-of-type {\n",
       "        vertical-align: middle;\n",
       "    }\n",
       "\n",
       "    .dataframe tbody tr th {\n",
       "        vertical-align: top;\n",
       "    }\n",
       "\n",
       "    .dataframe thead th {\n",
       "        text-align: right;\n",
       "    }\n",
       "</style>\n",
       "<table border=\"1\" class=\"dataframe\">\n",
       "  <thead>\n",
       "    <tr style=\"text-align: right;\">\n",
       "      <th></th>\n",
       "      <th>Birth_Year</th>\n",
       "      <th>Weight</th>\n",
       "      <th>Weight_Perception</th>\n",
       "      <th>Height</th>\n",
       "      <th>Height_Perception</th>\n",
       "      <th>Gender</th>\n",
       "      <th>School_Year</th>\n",
       "      <th>Marital_Status</th>\n",
       "      <th>Mother_Education</th>\n",
       "      <th>Mother_Profession</th>\n",
       "      <th>...</th>\n",
       "      <th>Little_Interest</th>\n",
       "      <th>Little_Energy</th>\n",
       "      <th>Feel_Failure</th>\n",
       "      <th>Life_Rewarding</th>\n",
       "      <th>Amusing</th>\n",
       "      <th>Cheerful_Effect</th>\n",
       "      <th>Healthy_Feel</th>\n",
       "      <th>Control_Life</th>\n",
       "      <th>GPA</th>\n",
       "      <th>Sleep_Hours</th>\n",
       "    </tr>\n",
       "  </thead>\n",
       "  <tbody>\n",
       "    <tr>\n",
       "      <th>0</th>\n",
       "      <td>1998</td>\n",
       "      <td>160</td>\n",
       "      <td>Overweight</td>\n",
       "      <td>59</td>\n",
       "      <td>Very short</td>\n",
       "      <td>Female</td>\n",
       "      <td>Freshman</td>\n",
       "      <td>Single</td>\n",
       "      <td>College Degree</td>\n",
       "      <td>social worker</td>\n",
       "      <td>...</td>\n",
       "      <td>Several days</td>\n",
       "      <td>Several days</td>\n",
       "      <td>More than half the days</td>\n",
       "      <td>3.0</td>\n",
       "      <td>3.0</td>\n",
       "      <td>7.0</td>\n",
       "      <td>3.0</td>\n",
       "      <td>2.0</td>\n",
       "      <td>3.4</td>\n",
       "      <td>7</td>\n",
       "    </tr>\n",
       "  </tbody>\n",
       "</table>\n",
       "<p>1 rows × 88 columns</p>\n",
       "</div>"
      ],
      "text/plain": [
       "   Birth_Year  Weight Weight_Perception  Height Height_Perception  Gender  \\\n",
       "0        1998     160        Overweight      59        Very short  Female   \n",
       "\n",
       "  School_Year Marital_Status Mother_Education Mother_Profession     ...      \\\n",
       "0    Freshman         Single   College Degree     social worker     ...       \n",
       "\n",
       "  Little_Interest Little_Energy             Feel_Failure  Life_Rewarding  \\\n",
       "0    Several days  Several days  More than half the days             3.0   \n",
       "\n",
       "  Amusing Cheerful_Effect Healthy_Feel Control_Life  GPA Sleep_Hours  \n",
       "0     3.0             7.0          3.0          2.0  3.4           7  \n",
       "\n",
       "[1 rows x 88 columns]"
      ]
     },
     "execution_count": 4,
     "metadata": {},
     "output_type": "execute_result"
    }
   ],
   "source": [
    "data.head(1)"
   ]
  },
  {
   "cell_type": "code",
   "execution_count": 14,
   "metadata": {},
   "outputs": [
    {
     "data": {
      "text/plain": [
       "7    64\n",
       "8    54\n",
       "6    28\n",
       "5     9\n",
       "9     8\n",
       "Name: Sleep_Hours, dtype: int64"
      ]
     },
     "execution_count": 14,
     "metadata": {},
     "output_type": "execute_result"
    }
   ],
   "source": [
    "#we see how many values are in the variable we want to explore \n",
    "data['Sleep_Hours'].value_counts()"
   ]
  },
  {
   "cell_type": "code",
   "execution_count": 12,
   "metadata": {},
   "outputs": [],
   "source": [
    "#since there are 5 values (5, 6, 7, 8, and 9) then the number of bins will be five \n",
    "res=stats.relfreq(data['Sleep_Hours'], numbins=5)"
   ]
  },
  {
   "cell_type": "code",
   "execution_count": 13,
   "metadata": {},
   "outputs": [
    {
     "data": {
      "text/plain": [
       "array([0.05521472, 0.17177914, 0.39263804, 0.33128834, 0.04907975])"
      ]
     },
     "execution_count": 13,
     "metadata": {},
     "output_type": "execute_result"
    }
   ],
   "source": [
    "#here we see the breakdown of the relative frequency from the smallest to the largest\n",
    "res.frequency"
   ]
  },
  {
   "cell_type": "code",
   "execution_count": null,
   "metadata": {},
   "outputs": [],
   "source": []
  }
 ],
 "metadata": {
  "kernelspec": {
   "display_name": "Python 3",
   "language": "python",
   "name": "python3"
  },
  "language_info": {
   "codemirror_mode": {
    "name": "ipython",
    "version": 3
   },
   "file_extension": ".py",
   "mimetype": "text/x-python",
   "name": "python",
   "nbconvert_exporter": "python",
   "pygments_lexer": "ipython3",
   "version": "3.6.5"
  }
 },
 "nbformat": 4,
 "nbformat_minor": 2
}
