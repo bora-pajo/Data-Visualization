{
 "cells": [
  {
   "cell_type": "code",
   "execution_count": 1,
   "metadata": {},
   "outputs": [
    {
     "name": "stdout",
     "output_type": "stream",
     "text": [
      "hi class!\n"
     ]
    }
   ],
   "source": [
    "print ('hi class!')"
   ]
  },
  {
   "cell_type": "code",
   "execution_count": 2,
   "metadata": {
    "collapsed": true
   },
   "outputs": [],
   "source": [
    "def main ():\n",
    "    print ('Hi class!')\n",
    "    "
   ]
  },
  {
   "cell_type": "code",
   "execution_count": 3,
   "metadata": {},
   "outputs": [
    {
     "name": "stdout",
     "output_type": "stream",
     "text": [
      "Hi class!\n"
     ]
    }
   ],
   "source": [
    "main()"
   ]
  },
  {
   "cell_type": "code",
   "execution_count": 4,
   "metadata": {},
   "outputs": [
    {
     "name": "stdout",
     "output_type": "stream",
     "text": [
      "Hi class!\n"
     ]
    }
   ],
   "source": [
    "def main():\n",
    "    print (\"Hi class!\")\n",
    "if __name__ == '__main__':\n",
    "    main()"
   ]
  },
  {
   "cell_type": "code",
   "execution_count": 5,
   "metadata": {},
   "outputs": [
    {
     "name": "stdout",
     "output_type": "stream",
     "text": [
      "Hi, Levi\n"
     ]
    }
   ],
   "source": [
    "def main(randomname):\n",
    "    print ('Hi, '+ randomname)\n",
    "if __name__ == '__main__':\n",
    "    main ('Levi')"
   ]
  },
  {
   "cell_type": "code",
   "execution_count": 6,
   "metadata": {},
   "outputs": [
    {
     "name": "stdout",
     "output_type": "stream",
     "text": [
      "Hi, Lisa\n"
     ]
    }
   ],
   "source": [
    "#note how this does not have to work with the name we gave initially\n",
    "#it works with any name we want to give\n",
    "main(\"Lisa\")"
   ]
  },
  {
   "cell_type": "code",
   "execution_count": 7,
   "metadata": {},
   "outputs": [
    {
     "name": "stdout",
     "output_type": "stream",
     "text": [
      "Hi, Levi you are 30 years old.\n"
     ]
    }
   ],
   "source": [
    "def main (randomname, age):\n",
    "    print (\"Hi, \" + randomname + \" you are \" + str(age) + \" years old.\")\n",
    "if __name__ == '__main__':\n",
    "    main (\"Levi\", 30)"
   ]
  },
  {
   "cell_type": "code",
   "execution_count": 8,
   "metadata": {},
   "outputs": [
    {
     "name": "stdout",
     "output_type": "stream",
     "text": [
      "Hi, Levi you are 35 years old.\n"
     ]
    }
   ],
   "source": [
    "main(\"Levi\", 35)"
   ]
  },
  {
   "cell_type": "code",
   "execution_count": 9,
   "metadata": {},
   "outputs": [
    {
     "name": "stdout",
     "output_type": "stream",
     "text": [
      "Hi, Lisa you are 20 years old.\n",
      "Hi, Audrey you are 16 years old.\n"
     ]
    }
   ],
   "source": [
    "#The main function we created can take any type of argument, name or age \n",
    "#It always gives us the predefined sentence.\n",
    "main(\"Lisa\", 20)\n",
    "main (\"Audrey\", 16)"
   ]
  },
  {
   "cell_type": "code",
   "execution_count": 10,
   "metadata": {},
   "outputs": [
    {
     "name": "stdout",
     "output_type": "stream",
     "text": [
      "Hi Levi, the amount of coins you have earned is 20.000000\n"
     ]
    }
   ],
   "source": [
    "#formatting the string into a float\n",
    "def main (randomname, quantity):\n",
    "    print (\"Hi %s, the amount of coins you have earned is %f\"% (randomname, quantity))\n",
    "if __name__ == '__main__':\n",
    "    main('Levi', 20)"
   ]
  },
  {
   "cell_type": "code",
   "execution_count": 11,
   "metadata": {},
   "outputs": [
    {
     "name": "stdout",
     "output_type": "stream",
     "text": [
      "Hi Levi, you have completed 20.00 percent of your work\n"
     ]
    }
   ],
   "source": [
    "#defining the decimal points after the numbers and continuing the sentence\n",
    "def main (randomname, quantity):\n",
    "    print (\"Hi %s, you have completed %0.2f\"% (randomname, quantity) + ' percent of your work')\n",
    "if __name__ == '__main__':\n",
    "    main('Levi', 20)"
   ]
  },
  {
   "cell_type": "code",
   "execution_count": 12,
   "metadata": {},
   "outputs": [
    {
     "name": "stdout",
     "output_type": "stream",
     "text": [
      "Hi Levi, you have completed 20.35 percent of your work\n"
     ]
    }
   ],
   "source": [
    "#python will do the rounding for us\n",
    "def main (randomname, quantity):\n",
    "    print (\"Hi %s, you have completed %0.2f\"% (randomname, quantity) + ' percent of your work')\n",
    "if __name__ == '__main__':\n",
    "    main('Levi', 20.34674)"
   ]
  },
  {
   "cell_type": "code",
   "execution_count": 13,
   "metadata": {
    "collapsed": true
   },
   "outputs": [],
   "source": [
    "#importing packages and libraries\n",
    "import sys"
   ]
  },
  {
   "cell_type": "code",
   "execution_count": 14,
   "metadata": {},
   "outputs": [
    {
     "name": "stdout",
     "output_type": "stream",
     "text": [
      "darwin\n"
     ]
    }
   ],
   "source": [
    "#I have a mac so the following output will be darwin\n",
    "platform = sys.platform;\n",
    "print (\"%s\" % platform)"
   ]
  },
  {
   "cell_type": "code",
   "execution_count": 15,
   "metadata": {},
   "outputs": [
    {
     "name": "stdout",
     "output_type": "stream",
     "text": [
      "Python version: 2.7.13\n"
     ]
    }
   ],
   "source": [
    "# Checking the system version information\n",
    "pyversion_major = sys.version_info[0];\n",
    "pyversion_minor = sys.version_info[1];\n",
    "pyversion_micro = sys.version_info [2];\n",
    "print (\"Python version: %s.%s.%s\" % (pyversion_major, pyversion_minor, pyversion_micro))"
   ]
  },
  {
   "cell_type": "code",
   "execution_count": 42,
   "metadata": {},
   "outputs": [
    {
     "name": "stdout",
     "output_type": "stream",
     "text": [
      "﻿This is a text file.\n"
     ]
    }
   ],
   "source": [
    "#First create a simple text file and save it in the same directory that the python code is written\n",
    "#Once we have created a simple text file \n",
    "import os\n",
    "openFile = os.open('Untitled document.txt', os.O_RDONLY)\n",
    "readmeText = os.read(openFile, 100)\n",
    "print (readmeText)"
   ]
  },
  {
   "cell_type": "code",
   "execution_count": 16,
   "metadata": {
    "collapsed": true
   },
   "outputs": [],
   "source": [
    "#creating a file and writing on it\n",
    "#first what we will write into the file\n",
    "txtContent = \"Hi I am a text file\"\n",
    "#Then opening the file where we will be writing \n",
    "openFile = open('content.txt', 'w')\n",
    "#then inserting the content we decided into the file\n",
    "readmeText = openFile.write(txtContent)\n",
    "#finally closing the file\n",
    "openFile.close()\n",
    "#once this is done, we can check for the actual file in the folder"
   ]
  },
  {
   "cell_type": "code",
   "execution_count": 17,
   "metadata": {
    "collapsed": true
   },
   "outputs": [],
   "source": [
    "import PIL"
   ]
  },
  {
   "cell_type": "code",
   "execution_count": 18,
   "metadata": {
    "collapsed": true
   },
   "outputs": [],
   "source": [
    "from PIL import*"
   ]
  },
  {
   "cell_type": "code",
   "execution_count": 25,
   "metadata": {},
   "outputs": [],
   "source": [
    "from PIL import Image\n",
    "from PIL import ImageDraw"
   ]
  },
  {
   "cell_type": "code",
   "execution_count": 26,
   "metadata": {
    "collapsed": true
   },
   "outputs": [],
   "source": [
    "def readcontent():\n",
    "    openFile = open('content.txt', 'r')\n",
    "    readmeText = openFile.read()\n",
    "    openFile.close()\n",
    "    return openFile, readmeText"
   ]
  },
  {
   "cell_type": "code",
   "execution_count": 33,
   "metadata": {
    "collapsed": true
   },
   "outputs": [],
   "source": [
    "def generateImage():\n",
    "    img = Image.new(\"RGBA\", (100, 80), \"white\")\n",
    "    draw = ImageDraw.Draw(img)\n",
    "    output = draw.text((10,10), readmeText, fill = (255,0,0,255))\n",
    "    draw = ImageDraw.Draw(img)\n",
    "    img.save(\"output.png\")\n",
    "    return draw, img, output"
   ]
  },
  {
   "cell_type": "code",
   "execution_count": 34,
   "metadata": {
    "collapsed": true
   },
   "outputs": [],
   "source": [
    "openFile, readmeText = readcontent()"
   ]
  },
  {
   "cell_type": "code",
   "execution_count": 35,
   "metadata": {
    "collapsed": true
   },
   "outputs": [],
   "source": [
    "draw, img, output = generateImage()"
   ]
  },
  {
   "cell_type": "code",
   "execution_count": null,
   "metadata": {
    "collapsed": true
   },
   "outputs": [],
   "source": []
  }
 ],
 "metadata": {
  "kernelspec": {
   "display_name": "Python [conda env:py27]",
   "language": "python",
   "name": "conda-env-py27-py"
  },
  "language_info": {
   "codemirror_mode": {
    "name": "ipython",
    "version": 2
   },
   "file_extension": ".py",
   "mimetype": "text/x-python",
   "name": "python",
   "nbconvert_exporter": "python",
   "pygments_lexer": "ipython2",
   "version": "2.7.13"
  }
 },
 "nbformat": 4,
 "nbformat_minor": 2
}
