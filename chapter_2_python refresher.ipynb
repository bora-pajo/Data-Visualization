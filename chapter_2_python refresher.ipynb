{
 "cells": [
  {
   "cell_type": "code",
   "execution_count": 19,
   "metadata": {},
   "outputs": [
    {
     "name": "stdout",
     "output_type": "stream",
     "text": [
      "hi class!\n"
     ]
    }
   ],
   "source": [
    "print ('hi class!')"
   ]
  },
  {
   "cell_type": "code",
   "execution_count": 20,
   "metadata": {
    "collapsed": true
   },
   "outputs": [],
   "source": [
    "def main ():\n",
    "    print ('Hi class!')\n",
    "    "
   ]
  },
  {
   "cell_type": "code",
   "execution_count": 21,
   "metadata": {},
   "outputs": [
    {
     "name": "stdout",
     "output_type": "stream",
     "text": [
      "Hi class!\n"
     ]
    }
   ],
   "source": [
    "main()"
   ]
  },
  {
   "cell_type": "code",
   "execution_count": 22,
   "metadata": {},
   "outputs": [
    {
     "name": "stdout",
     "output_type": "stream",
     "text": [
      "Hi class!\n"
     ]
    }
   ],
   "source": [
    "def main():\n",
    "    print (\"Hi class!\")\n",
    "if __name__ == '__main__':\n",
    "    main()"
   ]
  },
  {
   "cell_type": "code",
   "execution_count": 23,
   "metadata": {},
   "outputs": [
    {
     "name": "stdout",
     "output_type": "stream",
     "text": [
      "Hi, Levi\n"
     ]
    }
   ],
   "source": [
    "def main(randomname):\n",
    "    print ('Hi, '+ randomname)\n",
    "if __name__ == '__main__':\n",
    "    main ('Levi')"
   ]
  },
  {
   "cell_type": "code",
   "execution_count": 24,
   "metadata": {},
   "outputs": [
    {
     "name": "stdout",
     "output_type": "stream",
     "text": [
      "Hi, Lisa\n"
     ]
    }
   ],
   "source": [
    "#note how this does not have to work with the name we gave initially\n",
    "#it works with any name we want to give\n",
    "main(\"Lisa\")"
   ]
  },
  {
   "cell_type": "code",
   "execution_count": 25,
   "metadata": {},
   "outputs": [
    {
     "name": "stdout",
     "output_type": "stream",
     "text": [
      "Hi, Levi you are 30 years old.\n"
     ]
    }
   ],
   "source": [
    "def main (randomname, age):\n",
    "    print (\"Hi, \" + randomname + \" you are \" + str(age) + \" years old.\")\n",
    "if __name__ == '__main__':\n",
    "    main (\"Levi\", 30)"
   ]
  },
  {
   "cell_type": "code",
   "execution_count": 26,
   "metadata": {},
   "outputs": [
    {
     "name": "stdout",
     "output_type": "stream",
     "text": [
      "Hi, Levi you are 35 years old.\n"
     ]
    }
   ],
   "source": [
    "main(\"Levi\", 35)"
   ]
  },
  {
   "cell_type": "code",
   "execution_count": 27,
   "metadata": {},
   "outputs": [
    {
     "name": "stdout",
     "output_type": "stream",
     "text": [
      "Hi, Lisa you are 20 years old.\n",
      "Hi, Audrey you are 16 years old.\n"
     ]
    }
   ],
   "source": [
    "#The main function we created can take any type of argument, name or age \n",
    "#It always gives us the predefined sentence.\n",
    "main(\"Lisa\", 20)\n",
    "main (\"Audrey\", 16)"
   ]
  },
  {
   "cell_type": "code",
   "execution_count": 32,
   "metadata": {},
   "outputs": [
    {
     "name": "stdout",
     "output_type": "stream",
     "text": [
      "Hi Levi, the amount of coins you have earned is 20.000000\n"
     ]
    }
   ],
   "source": [
    "#formatting the string into a float\n",
    "def main (randomname, quantity):\n",
    "    print (\"Hi %s, the amount of coins you have earned is %f\"% (randomname, quantity))\n",
    "if __name__ == '__main__':\n",
    "    main('Levi', 20)"
   ]
  },
  {
   "cell_type": "code",
   "execution_count": 35,
   "metadata": {},
   "outputs": [
    {
     "name": "stdout",
     "output_type": "stream",
     "text": [
      "Hi Levi, you have completed 20.00 percent of your work\n"
     ]
    }
   ],
   "source": [
    "#defining the decimal points after the numbers and continuing the sentence\n",
    "def main (randomname, quantity):\n",
    "    print (\"Hi %s, you have completed %0.2f\"% (randomname, quantity) + ' percent of your work')\n",
    "if __name__ == '__main__':\n",
    "    main('Levi', 20)"
   ]
  },
  {
   "cell_type": "code",
   "execution_count": 36,
   "metadata": {},
   "outputs": [
    {
     "name": "stdout",
     "output_type": "stream",
     "text": [
      "Hi Levi, you have completed 20.35 percent of your work\n"
     ]
    }
   ],
   "source": [
    "#python will do the rounding for us\n",
    "def main (randomname, quantity):\n",
    "    print (\"Hi %s, you have completed %0.2f\"% (randomname, quantity) + ' percent of your work')\n",
    "if __name__ == '__main__':\n",
    "    main('Levi', 20.34674)"
   ]
  },
  {
   "cell_type": "code",
   "execution_count": null,
   "metadata": {
    "collapsed": true
   },
   "outputs": [],
   "source": []
  }
 ],
 "metadata": {
  "kernelspec": {
   "display_name": "Python [conda env:py27]",
   "language": "python",
   "name": "conda-env-py27-py"
  },
  "language_info": {
   "codemirror_mode": {
    "name": "ipython",
    "version": 2
   },
   "file_extension": ".py",
   "mimetype": "text/x-python",
   "name": "python",
   "nbconvert_exporter": "python",
   "pygments_lexer": "ipython2",
   "version": "2.7.13"
  }
 },
 "nbformat": 4,
 "nbformat_minor": 2
}
