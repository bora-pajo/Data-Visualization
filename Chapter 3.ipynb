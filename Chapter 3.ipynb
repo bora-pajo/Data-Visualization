{
 "cells": [
  {
   "cell_type": "code",
   "execution_count": 2,
   "metadata": {
    "collapsed": true
   },
   "outputs": [],
   "source": [
    "#For additional information on pygal go to www.pygal.org \n",
    "#There you will find documentation and other helpful code\n",
    "#after installing pygal in your terminal by using >>>sudo pip install pygal OR >>>pip install pygal\n",
    "#you can import it in your notebook. Since it is already installed, I will start with import\n",
    "#NOTE: Make sure you are opening a new notebook on [conda root] not on py27\n",
    "#on my computer pygal was not being imported on py27 just on conda root or default\n",
    "import pygal"
   ]
  },
  {
   "cell_type": "code",
   "execution_count": 4,
   "metadata": {
    "collapsed": true
   },
   "outputs": [],
   "source": [
    "# Building a line chart. \n",
    "#Principles to remember: line charts are great to show how data changes over time. \n",
    "#Often times x axes indicate time or value and the y axis indicate some other parameter we are looking into\n",
    "line = pygal.Line()\n",
    "line.title = \"Songs listened during 10 years\"\n",
    "line.x_labels = map(str, range (2007, 2017))\n",
    "line.add(\"Donwloads\", [None, 4, 6, 12, 24, 32, 60, 72, 80,90, 148]) #none will add an empty space\n",
    "line.render_to_file('linechart.svg')"
   ]
  },
  {
   "cell_type": "code",
   "execution_count": null,
   "metadata": {
    "collapsed": true
   },
   "outputs": [],
   "source": [
    "# Stacked line charts\n",
    "#These are similar to line charts, but have the ability to stack multiple\n",
    "#sets of data over each other to show the specific values for a group\n"
   ]
  }
 ],
 "metadata": {
  "kernelspec": {
   "display_name": "Python [conda root]",
   "language": "python",
   "name": "conda-root-py"
  },
  "language_info": {
   "codemirror_mode": {
    "name": "ipython",
    "version": 3
   },
   "file_extension": ".py",
   "mimetype": "text/x-python",
   "name": "python",
   "nbconvert_exporter": "python",
   "pygments_lexer": "ipython3",
   "version": "3.6.1"
  }
 },
 "nbformat": 4,
 "nbformat_minor": 2
}
