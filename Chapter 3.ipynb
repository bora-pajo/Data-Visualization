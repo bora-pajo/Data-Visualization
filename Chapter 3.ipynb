{
 "cells": [
  {
   "cell_type": "code",
   "execution_count": 2,
   "metadata": {
    "collapsed": true
   },
   "outputs": [],
   "source": [
    "#For additional information on pygal go to www.pygal.org \n",
    "#There you will find documentation and other helpful code\n",
    "#after installing pygal in your terminal by using >>>sudo pip install pygal OR >>>pip install pygal\n",
    "#you can import it in your notebook. Since it is already installed, I will start with import\n",
    "#NOTE: Make sure you are opening a new notebook on [conda root] not on py27\n",
    "#on my computer pygal was not being imported on py27 just on conda root or default\n",
    "import pygal"
   ]
  },
  {
   "cell_type": "code",
   "execution_count": 4,
   "metadata": {
    "collapsed": true
   },
   "outputs": [],
   "source": [
    "# Building a line chart. \n",
    "#Principles to remember: line charts are great to show how data changes over time. \n",
    "#Often times x axes indicate time or value and the y axis indicate some other parameter we are looking into\n",
    "line = pygal.Line()\n",
    "line.title = \"Songs listened during 10 years\"\n",
    "line.x_labels = map(str, range (2007, 2017))\n",
    "line.add(\"Donwloads\", [None, 4, 6, 12, 24, 32, 60, 72, 80,90, 148]) #none will add an empty space\n",
    "line.render_to_file('linechart.svg')"
   ]
  },
  {
   "cell_type": "code",
   "execution_count": 6,
   "metadata": {},
   "outputs": [],
   "source": [
    "#Stacked line charts\n",
    "#These are similar to line charts, but have the ability to stack multiple\n",
    "#sets of data over each other to show the specific values for a group\n",
    "#let's start with stacked line charts\n",
    "line = pygal.StackedLine (fill = True)\n",
    "line.title = \"Shows watched in the past ten years\"\n",
    "line.x_labels = map (str, range (2007, 2017))\n",
    "line.add (\"Game of Thrones\", [None, 0, 12, 32, 40, 50, 72, 148])\n",
    "line.add (\"Nurse Jackie\", [2, 16, 12, 87, 30, 55, 20, 38])\n",
    "line.add (\"Boardwalk\", [10, 15, 40, 60, 30, 56, 60, 100])\n",
    "line.render_to_file ('stackedline.svg')\n"
   ]
  },
  {
   "cell_type": "code",
   "execution_count": 7,
   "metadata": {
    "collapsed": true
   },
   "outputs": [],
   "source": [
    "#let's do another identical chart where fill = False\n",
    "line = pygal.StackedLine (fill = False)\n",
    "line.title = \"Shows watched in the past ten years\"\n",
    "line.x_labels = map (str, range (2007, 2017))\n",
    "line.add (\"Game of Thrones\", [None, 0, 12, 32, 40, 50, 72, 148])\n",
    "line.add (\"Nurse Jackie\", [2, 16, 12, 87, 30, 55, 20, 38])\n",
    "line.add (\"Boardwalk\", [10, 15, 40, 60, 30, 56, 60, 100])\n",
    "line.render_to_file ('stackedline1.svg')"
   ]
  },
  {
   "cell_type": "code",
   "execution_count": 11,
   "metadata": {},
   "outputs": [],
   "source": [
    "#Simple bar charts\n",
    "#Sometimes used like line charts but their purpose is different\n",
    "#bar charts help us with categorical information and comparisons between groups\n",
    "#let's start with a bar chart. this is different from your textbook \n",
    "bar = pygal.Bar()\n",
    "bar.title = 'Income for men and women'\n",
    "bar.x_labels = map (str,('men', 'women')) #note how the code here is different when we use names\n",
    "bar.add('Income', [130, 90])\n",
    "bar.render_to_file('bar_chart.svg')"
   ]
  },
  {
   "cell_type": "code",
   "execution_count": 12,
   "metadata": {
    "collapsed": true
   },
   "outputs": [],
   "source": [
    "#let's follow a bar chart that is almost exactly like the textbook\n",
    "bar = pygal.Bar()\n",
    "bar.title = \"Vegetable consumed over five years\"\n",
    "bar.x_labels = map (str, range (2012, 2017))\n",
    "bar.add('Nr of farmers markets in the area', [10, 12, 15, 20, 35])\n",
    "bar.render_to_file ('bar_chart1.svg')\n"
   ]
  },
  {
   "cell_type": "code",
   "execution_count": 13,
   "metadata": {
    "collapsed": true
   },
   "outputs": [],
   "source": [
    "#We can also do a stacked bar chart. Let's start with a simple one\n",
    "bar = pygal.StackedBar()\n",
    "bar.title = 'Apps used for men and women over time'\n",
    "bar.x_labels = map(str, range (2000, 2017))\n",
    "bar.add('Men', [5, 10, 20, 14, 22, 25, 30, 35, 49, 60, 66, 80, 90, 100, 120, 130, 150, 200])\n",
    "bar.add (\"Women\", [20, 35, 29, 40, 49, 50, 59, 66, 79, 100, 130, 149, 149, 200, 201, 210, 250, 270])\n",
    "bar.render_to_file ('bar_chart_stacked.svg')"
   ]
  },
  {
   "cell_type": "code",
   "execution_count": 15,
   "metadata": {
    "collapsed": true
   },
   "outputs": [],
   "source": [
    "#Sometimes we may need horizontal bar charts rather than vertical ones\n",
    "bar = pygal.HorizontalBar()\n",
    "bar.title = \"Nr of hours parents spend with children in a typical day\"\n",
    "bar.x_labels= map (str,('January', 'February', 'March', 'April', 'May', 'June', 'July', 'August', 'September', 'October', 'November', 'December'))\n",
    "bar.add ('Hours', [1.5, 2, 3, 5, 6, 6, 7, 7, 4, 3, 2.5, 3])\n",
    "bar.render_to_file ('chart_time.svg')"
   ]
  },
  {
   "cell_type": "code",
   "execution_count": 17,
   "metadata": {
    "collapsed": true
   },
   "outputs": [],
   "source": [
    "#XY charts\n",
    "#Often used in scientific data to show multiple values at different points in time\n",
    "xy_chart = pygal.XY()\n",
    "xy_chart.add('Value 1', [(-50, -30), (100, 45)]) #here the (-50, -30) are the coordinates for the first point of the line\n",
    "xy_chart.render_to_file (\"xy_chart.svg\")\n"
   ]
  },
  {
   "cell_type": "code",
   "execution_count": 18,
   "metadata": {
    "collapsed": true
   },
   "outputs": [],
   "source": [
    "xy_chart = pygal.XY()\n",
    "xy_chart.add (\"Line 1\", [(-20, -30), (50,30)])\n",
    "xy_chart.add (\"Line 2\", [(0,10), (45, 60)])\n",
    "xy_chart.add (\"Line 3\", [(0,0), (60,60)])\n",
    "xy_chart.add (\"Line 4\", [(-45, -10), (70, 10)])\n",
    "xy_chart.render_to_file (\"xy1_chart.svg\")"
   ]
  },
  {
   "cell_type": "code",
   "execution_count": 19,
   "metadata": {
    "collapsed": true
   },
   "outputs": [],
   "source": [
    "#Basic line plot\n",
    "xy_chart = pygal.XY()\n",
    "xy_chart.add(\"Line 1\", [(-50, -30), (100, 45), (120, 56),(168, 102), (211, 192)])\n",
    "xy_chart.add (\"Line 2\", [(0,0), (10, 5), (35,0), (-10, 40)])\n",
    "xy_chart.add (\"Line 3\", [(-35, -20), (20, 40), (10, 10), (40,40)])\n",
    "xy_chart.render_to_file (\"xy2_chart.svg\")"
   ]
  },
  {
   "cell_type": "code",
   "execution_count": 20,
   "metadata": {
    "collapsed": true
   },
   "outputs": [],
   "source": [
    "#dot charts\n",
    "dot_chart = pygal.Dot(x_label_rotation=30)\n",
    "dot_chart.title = 'V8 benchmark results'\n",
    "dot_chart.x_labels = ['Richards', 'DeltaBlue', 'Crypto', 'RayTrace', 'EarleyBoyer', 'RegExp', 'Splay', 'NavierStokes']\n",
    "dot_chart.add('Chrome', [6395, 8212, 7520, 7218, 12464, 1660, 2123, 8607])\n",
    "dot_chart.add('Firefox', [7473, 8099, 11700, 2651, 6361, 1044, 3797, 9450])\n",
    "dot_chart.add('Opera', [3472, 2933, 4203, 5229, 5810, 1828, 9013, 4669])\n",
    "dot_chart.add('IE', [43, 41, 59, 79, 144, 136, 34, 102])\n",
    "dot_chart.render_to_file (\"dot_chart.svg\")"
   ]
  },
  {
   "cell_type": "code",
   "execution_count": 22,
   "metadata": {
    "collapsed": true
   },
   "outputs": [],
   "source": [
    "#dot charts with different values\n",
    "dot_chart = pygal.Dot(x_label_rotation=10)\n",
    "dot_chart.title = 'V8 benchmark results'\n",
    "dot_chart.x_labels = ['Richards', 'DeltaBlue', 'Crypto', 'RayTrace', 'EarleyBoyer', 'RegExp', 'Splay', 'NavierStokes']\n",
    "dot_chart.add('Chrome', [95, 12, 120, 218, 64, 60, 23, 86])\n",
    "dot_chart.add('Firefox', [74, 199, 100, 251, 161, 44, 97, 50])\n",
    "dot_chart.add('Opera', [72, 33, 103, 129, 10, 28, 13, 69])\n",
    "dot_chart.add('IE', [143, 141, 259, 179, 144, 136, 134, 102])\n",
    "dot_chart.render_to_file (\"dot_chart1.svg\")"
   ]
  },
  {
   "cell_type": "code",
   "execution_count": 23,
   "metadata": {
    "collapsed": true
   },
   "outputs": [],
   "source": [
    "#Scatter plots\n",
    "#pygal does not have a scatter plot command, but we can create scatter plots by using XY charts\n",
    "scatter_plot = pygal.XY(stroke = False) #this way it will only show points\n",
    "scatter_plot.add('One bedrooms', [(-50, -30), (100, 45), (120, 56), (168, 102), (211, 192), (279, 211)])\n",
    "scatter_plot.add('Two bedrooms', [(-2, -14), (370, 444), (391, 464), (399, 512), (412, 569), (789, 896)])\n",
    "scatter_plot.add('Three bedrooms',  [(2, 10), (142, 164), (184, 216), (203, 243), (208, 335), (243, 201)])\n",
    "scatter_plot.render_to_file(\"scatterplot.svg\")"
   ]
  },
  {
   "cell_type": "code",
   "execution_count": 24,
   "metadata": {
    "collapsed": true
   },
   "outputs": [],
   "source": [
    "scatter_plot = pygal.XY(stroke = False)\n",
    "scatter_plot.add(\"Line 1\", [(-50, -30), (100, 45), (120, 56),(168, 102), (211, 192)])\n",
    "scatter_plot.add (\"Line 2\", [(0,0), (10, 5), (35,0), (-10, 40)])\n",
    "scatter_plot.add (\"Line 3\", [(-35, -20), (20, 40), (10, 10), (40,40)])\n",
    "scatter_plot.render_to_file (\"scatter1_chart.svg\")"
   ]
  },
  {
   "cell_type": "code",
   "execution_count": 27,
   "metadata": {},
   "outputs": [],
   "source": [
    "#dateY charts\n",
    "#Here each data point is associated with a date, not a string type\n",
    "#Each X label will be associated with a date object and Y will either be an integer or float\n",
    "#First we need the datetime library and timedelta\n",
    "#Datetime library is a built-in library in Python and pretty straightforward\n",
    "#The timedelta function belongs to datetime library\n",
    "import datetime\n",
    "from time import sleep"
   ]
  },
  {
   "cell_type": "code",
   "execution_count": 29,
   "metadata": {},
   "outputs": [
    {
     "name": "stdout",
     "output_type": "stream",
     "text": [
      "Slept for fewer than 3 seconds\n"
     ]
    }
   ],
   "source": [
    "start = datetime.datetime.now()\n",
    "sleep(3) #delay the python script for 3 seconds.\n",
    "stop = datetime.datetime.now()\n",
    "elapsed = stop - start\n",
    "if elapsed > datetime.timedelta(minutes=3):\n",
    "    print (\"Slept for greater than 3 minutes\")\n",
    "if elapsed > datetime.timedelta(seconds=3):\n",
    "    print (\"Slept for fewer than 3 seconds\")\n"
   ]
  },
  {
   "cell_type": "code",
   "execution_count": 30,
   "metadata": {
    "collapsed": true
   },
   "outputs": [],
   "source": [
    "from datetime import datetime, timedelta"
   ]
  },
  {
   "cell_type": "code",
   "execution_count": 38,
   "metadata": {},
   "outputs": [],
   "source": [
    "#Note that pygal does not support DateY anymore, so the code in your textbook needs to be modified to the below code\n",
    "\n",
    "Date_Y = pygal.DateTimeLine (x_label_rotation=35, truncate_label=-1, x_value_formatter=lambda dt: dt.strftime('%d, %b %Y at %I:%M:%S %p'))\n",
    "Date_Y.title = \"Flights and amount of passengers arriving from St.Louis.\"\n",
    "Date_Y.add(\"Arrival\", [\n",
    "    (datetime(2014, 1, 5), 42),\n",
    "    (datetime(2014, 1, 14), 123),\n",
    "    (datetime(2014, 2, 2), 97),\n",
    "    (datetime(2014, 3, 22), 164)])\n",
    "Date_Y.render_to_file('datey_chart.svg')"
   ]
  },
  {
   "cell_type": "code",
   "execution_count": 39,
   "metadata": {
    "collapsed": true
   },
   "outputs": [],
   "source": [
    "Date_Y = pygal.DateTimeLine(x_label_rotation=25)\n",
    "Date_Y.title = \"Flights and amount of passengers arriving from St.Louis.\"\n",
    "Date_Y.add(\"Arrival\", [\n",
    "    (datetime(2014, 1, 5), 42),\n",
    "    (datetime(2014, 1, 14), 123),\n",
    "    (datetime(2014, 2, 2), 97),\n",
    "    (datetime(2014, 3, 22), 164)])\n",
    "Date_Y.render_to_file('datey_chart1.svg')\n"
   ]
  },
  {
   "cell_type": "code",
   "execution_count": 41,
   "metadata": {},
   "outputs": [],
   "source": [
    "import pygal, time\n",
    "from datetime import datetime\n",
    "#setting a delay between two arrivals and set the time for each data point. We will use the time.sleep here\n",
    "arrival1 = datetime.now()\n",
    "time.sleep(277)\n",
    "arrival2 = datetime.now()\n",
    "delta = arrival2 - arrival1\n",
    "result = str(delta.seconds) + ' seconds'\n",
    "Date_Y = pygal.DateTimeLine(x_label_rotation=25)\n",
    "Date_Y.title = \"Flights and amount of passengers arriving from St.Louis.\"\n",
    "Date_Y.add(\"Arrival\", [\n",
    "       (datetime(2014, 1, 5), 42),\n",
    "       (datetime(2014, 1, 14), 123),\n",
    "       (datetime(2014, 2, 2), 97),\n",
    "       (datetime(2014, 3, 22), 164)])\n",
    "Date_Y.add(\"Arrivals today (time between flights %s)\" % result, [(arrival1, 14),(arrival2, 47)])\n",
    "Date_Y.render_to_file('datey3_chart.svg')\n"
   ]
  },
  {
   "cell_type": "code",
   "execution_count": null,
   "metadata": {
    "collapsed": true
   },
   "outputs": [],
   "source": []
  }
 ],
 "metadata": {
  "kernelspec": {
   "display_name": "Python [conda root]",
   "language": "python",
   "name": "conda-root-py"
  },
  "language_info": {
   "codemirror_mode": {
    "name": "ipython",
    "version": 3
   },
   "file_extension": ".py",
   "mimetype": "text/x-python",
   "name": "python",
   "nbconvert_exporter": "python",
   "pygments_lexer": "ipython3",
   "version": "3.6.1"
  }
 },
 "nbformat": 4,
 "nbformat_minor": 2
}
